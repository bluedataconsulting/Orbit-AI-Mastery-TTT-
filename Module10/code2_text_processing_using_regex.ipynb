{
 "cells": [
  {
   "cell_type": "markdown",
   "id": "cd8e9de2",
   "metadata": {},
   "source": [
    "# Text Processing using Regular Expression"
   ]
  },
  {
   "cell_type": "code",
   "execution_count": 1,
   "id": "b6833489",
   "metadata": {},
   "outputs": [],
   "source": [
    "import re"
   ]
  },
  {
   "cell_type": "markdown",
   "id": "00857f95",
   "metadata": {},
   "source": [
    "    + : for repition\n",
    "    \\d : any one digit\n",
    "    0-9 : any digit between 0 to 9\n",
    "    [] : any of the mentioned scope\n",
    "    a-z : any letter between a to z\n",
    "    A-Z : anyletter between A to Z\n",
    "    {} : size"
   ]
  },
  {
   "cell_type": "code",
   "execution_count": 4,
   "id": "8ea3aab9",
   "metadata": {
    "collapsed": true
   },
   "outputs": [
    {
     "name": "stdout",
     "output_type": "stream",
     "text": [
      "My mobile number is +6282233334444 and your number is +6275155554545 and his numer os +6125978452365 thanks\n"
     ]
    }
   ],
   "source": [
    "data = \"My mobile number is +6282233334444 and your number is +6275155554545 and his numer os +6125978452365 thanks\"\n",
    "print(data)"
   ]
  },
  {
   "cell_type": "code",
   "execution_count": 7,
   "id": "8e93b0ab",
   "metadata": {
    "collapsed": true
   },
   "outputs": [
    {
     "data": {
      "text/plain": [
       "['+6282233334444', '+6275155554545', '+6125978452365']"
      ]
     },
     "execution_count": 7,
     "metadata": {},
     "output_type": "execute_result"
    }
   ],
   "source": [
    "pattern = \"\\+\\d\\d\\d\\d\\d\\d\\d\\d\\d\\d\\d\\d\\d\"\n",
    "re.findall(pattern,data)"
   ]
  },
  {
   "cell_type": "code",
   "execution_count": 8,
   "id": "f5318123",
   "metadata": {
    "collapsed": true
   },
   "outputs": [
    {
     "data": {
      "text/plain": [
       "['+6282233334444', '+6275155554545', '+6125978452365']"
      ]
     },
     "execution_count": 8,
     "metadata": {},
     "output_type": "execute_result"
    }
   ],
   "source": [
    "pattern = \"[0-9\\+]{14}\"\n",
    "re.findall(pattern,data)"
   ]
  },
  {
   "cell_type": "code",
   "execution_count": 9,
   "id": "f3954c08",
   "metadata": {},
   "outputs": [
    {
     "data": {
      "text/plain": [
       "'My mobile number is ******* and your number is ******* and his numer os ******* thanks'"
      ]
     },
     "execution_count": 9,
     "metadata": {},
     "output_type": "execute_result"
    }
   ],
   "source": [
    "re.sub(pattern,\"*******\",data)"
   ]
  },
  {
   "cell_type": "code",
   "execution_count": 10,
   "id": "86da8921",
   "metadata": {},
   "outputs": [
    {
     "data": {
      "text/plain": [
       "'My mobile number is  and your number is  and his numer os  thanks'"
      ]
     },
     "execution_count": 10,
     "metadata": {},
     "output_type": "execute_result"
    }
   ],
   "source": [
    "re.sub(pattern,\"\",data)"
   ]
  },
  {
   "cell_type": "code",
   "execution_count": 11,
   "id": "93aca21f",
   "metadata": {},
   "outputs": [],
   "source": [
    "data = \"\"\" Hello everyone my birthday is 30-02-1990 and your bithday is 05-5-1995 and his\n",
    "birthday is 04-11-1987 and his friend's birtday is 05/04/1995 thanks. please drop me\n",
    "an email at anshu@mycompany123.com and also keep abc_123@gmail.com is cc along with\n",
    "the email manager@orbitfutureacademy.com in cc thanks\n",
    "\"\"\""
   ]
  },
  {
   "cell_type": "code",
   "execution_count": 12,
   "id": "33e0a643",
   "metadata": {},
   "outputs": [
    {
     "name": "stdout",
     "output_type": "stream",
     "text": [
      " Hello everyone my birthday is 30-02-1990 and your bithday is 05-5-1995 and his\n",
      "birthday is 04-11-1987 and his friend's birtday is 05/04/1995 thanks. please drop me\n",
      "an email at anshu@mycompany123.com and also keep abc_123@gmail.com is cc along with\n",
      "the email manager@orbitfutureacademy.com in cc thanks\n",
      "\n"
     ]
    }
   ],
   "source": [
    "print(data)"
   ]
  },
  {
   "cell_type": "code",
   "execution_count": 13,
   "id": "c85b0531",
   "metadata": {},
   "outputs": [
    {
     "data": {
      "text/plain": [
       "['30-02-1990', '04-11-1987']"
      ]
     },
     "execution_count": 13,
     "metadata": {},
     "output_type": "execute_result"
    }
   ],
   "source": [
    "pattern = \"[0-9]{2}-[0-9]{2}-[0-9]{4}\"\n",
    "re.findall(pattern,data)"
   ]
  },
  {
   "cell_type": "code",
   "execution_count": 14,
   "id": "acb70de8",
   "metadata": {},
   "outputs": [
    {
     "data": {
      "text/plain": [
       "['30-02-1990', '05-5-1995', '04-11-1987']"
      ]
     },
     "execution_count": 14,
     "metadata": {},
     "output_type": "execute_result"
    }
   ],
   "source": [
    "pattern = \"[0-9]{1,2}-[0-9]{1,2}-[0-9]{2,4}\"\n",
    "re.findall(pattern,data)"
   ]
  },
  {
   "cell_type": "code",
   "execution_count": 16,
   "id": "31eacd00",
   "metadata": {},
   "outputs": [
    {
     "data": {
      "text/plain": [
       "['30-02-1990', '05-5-1995', '04-11-1987', '05/04/1995']"
      ]
     },
     "execution_count": 16,
     "metadata": {},
     "output_type": "execute_result"
    }
   ],
   "source": [
    "pattern = \"[0-9]{1,2}[-/][0-9]{1,2}[-/][0-9]{2,4}\"\n",
    "re.findall(pattern,data)"
   ]
  },
  {
   "cell_type": "code",
   "execution_count": 17,
   "id": "0de0ef33",
   "metadata": {},
   "outputs": [
    {
     "data": {
      "text/plain": [
       "['anshu@mycompany123.com',\n",
       " 'abc_123@gmail.com',\n",
       " 'manager@orbitfutureacademy.com']"
      ]
     },
     "execution_count": 17,
     "metadata": {},
     "output_type": "execute_result"
    }
   ],
   "source": [
    "pattern = \"[a-zA-Z0-9._]+@[a-zA-Z0-9._]+\"\n",
    "re.findall(pattern,data)"
   ]
  },
  {
   "cell_type": "markdown",
   "id": "1f87c136",
   "metadata": {},
   "source": [
    "### Grouping in regex"
   ]
  },
  {
   "cell_type": "code",
   "execution_count": 18,
   "id": "323e6078",
   "metadata": {},
   "outputs": [
    {
     "data": {
      "text/plain": [
       "['31 FEB 2022']"
      ]
     },
     "execution_count": 18,
     "metadata": {},
     "output_type": "execute_result"
    }
   ],
   "source": [
    "data = \"My birthday is 31 FEB 2022 and what is your birthday ?\"\n",
    "pattern = \"\\d{1,2}\\s[a-zA-Z]{3}\\s\\d{4}\"\n",
    "re.findall(pattern,data)"
   ]
  },
  {
   "cell_type": "code",
   "execution_count": 19,
   "id": "1c5a6ab4",
   "metadata": {},
   "outputs": [
    {
     "data": {
      "text/plain": [
       "<re.Match object; span=(15, 26), match='31 FEB 2022'>"
      ]
     },
     "execution_count": 19,
     "metadata": {},
     "output_type": "execute_result"
    }
   ],
   "source": [
    "re.search(pattern,data)"
   ]
  },
  {
   "cell_type": "code",
   "execution_count": 20,
   "id": "74c27c17",
   "metadata": {},
   "outputs": [],
   "source": [
    "pattern = \"(\\d{1,2})\\s([a-zA-Z]{3})\\s(\\d{4})\"\n",
    "match = re.search(pattern,data)"
   ]
  },
  {
   "cell_type": "code",
   "execution_count": 21,
   "id": "ce9e211e",
   "metadata": {},
   "outputs": [
    {
     "data": {
      "text/plain": [
       "'31 FEB 2022'"
      ]
     },
     "execution_count": 21,
     "metadata": {},
     "output_type": "execute_result"
    }
   ],
   "source": [
    "match.group()"
   ]
  },
  {
   "cell_type": "code",
   "execution_count": 23,
   "id": "71326b44",
   "metadata": {},
   "outputs": [
    {
     "name": "stdout",
     "output_type": "stream",
     "text": [
      "31\n"
     ]
    }
   ],
   "source": [
    "print(match.group(1))"
   ]
  },
  {
   "cell_type": "code",
   "execution_count": 24,
   "id": "6c9e0c7d",
   "metadata": {},
   "outputs": [
    {
     "name": "stdout",
     "output_type": "stream",
     "text": [
      "FEB\n"
     ]
    }
   ],
   "source": [
    "print(match.group(2))"
   ]
  },
  {
   "cell_type": "code",
   "execution_count": 25,
   "id": "0ddad11c",
   "metadata": {},
   "outputs": [
    {
     "name": "stdout",
     "output_type": "stream",
     "text": [
      "2022\n"
     ]
    }
   ],
   "source": [
    "print(match.group(3))"
   ]
  },
  {
   "cell_type": "code",
   "execution_count": 26,
   "id": "930f259c",
   "metadata": {},
   "outputs": [],
   "source": [
    "pattern = \"(?P<day>\\d{1,2})\\s(?P<month>[a-zA-Z]{3})\\s(?P<year>\\d{4})\""
   ]
  },
  {
   "cell_type": "code",
   "execution_count": 27,
   "id": "f387981c",
   "metadata": {},
   "outputs": [],
   "source": [
    "match = re.search(pattern,data)"
   ]
  },
  {
   "cell_type": "code",
   "execution_count": 29,
   "id": "7f827016",
   "metadata": {},
   "outputs": [
    {
     "data": {
      "text/plain": [
       "'31'"
      ]
     },
     "execution_count": 29,
     "metadata": {},
     "output_type": "execute_result"
    }
   ],
   "source": [
    "match.group(\"day\")"
   ]
  },
  {
   "cell_type": "code",
   "execution_count": 30,
   "id": "95e8fb9b",
   "metadata": {},
   "outputs": [
    {
     "data": {
      "text/plain": [
       "'FEB'"
      ]
     },
     "execution_count": 30,
     "metadata": {},
     "output_type": "execute_result"
    }
   ],
   "source": [
    "match.group(\"month\")"
   ]
  },
  {
   "cell_type": "code",
   "execution_count": 31,
   "id": "1c80fa8b",
   "metadata": {},
   "outputs": [
    {
     "data": {
      "text/plain": [
       "'2022'"
      ]
     },
     "execution_count": 31,
     "metadata": {},
     "output_type": "execute_result"
    }
   ],
   "source": [
    "match.group(\"year\")"
   ]
  },
  {
   "cell_type": "code",
   "execution_count": null,
   "id": "302d901a",
   "metadata": {},
   "outputs": [],
   "source": []
  }
 ],
 "metadata": {
  "kernelspec": {
   "display_name": "Python 3",
   "language": "python",
   "name": "python3"
  },
  "language_info": {
   "codemirror_mode": {
    "name": "ipython",
    "version": 3
   },
   "file_extension": ".py",
   "mimetype": "text/x-python",
   "name": "python",
   "nbconvert_exporter": "python",
   "pygments_lexer": "ipython3",
   "version": "3.8.8"
  }
 },
 "nbformat": 4,
 "nbformat_minor": 5
}
