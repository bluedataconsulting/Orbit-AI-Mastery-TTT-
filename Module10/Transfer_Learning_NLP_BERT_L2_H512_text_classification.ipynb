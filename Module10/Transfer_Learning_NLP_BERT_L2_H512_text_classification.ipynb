{
  "nbformat": 4,
  "nbformat_minor": 0,
  "metadata": {
    "colab": {
      "name": "Transfer Learning - NLP -BERT_L2_H512_text_classification.ipynb",
      "provenance": [],
      "collapsed_sections": [],
      "toc_visible": true,
      "include_colab_link": true
    },
    "kernelspec": {
      "name": "python3",
      "display_name": "Python 3"
    },
    "accelerator": "GPU"
  },
  "cells": [
    {
      "cell_type": "markdown",
      "metadata": {
        "id": "view-in-github",
        "colab_type": "text"
      },
      "source": [
        "<a href=\"https://colab.research.google.com/github/bluedataconsulting/Orbit-AI-Mastery-TTT-/blob/main/Module10/Transfer_Learning_NLP_BERT_L2_H512_text_classification.ipynb\" target=\"_parent\"><img src=\"https://colab.research.google.com/assets/colab-badge.svg\" alt=\"Open In Colab\"/></a>"
      ]
    },
    {
      "cell_type": "code",
      "metadata": {
        "colab": {
          "base_uri": "https://localhost:8080/",
          "height": 1000
        },
        "id": "S8XyBIszEmuF",
        "outputId": "78f8678a-4e6a-421c-eef6-22a0e6ae5cf5"
      },
      "source": [
        "!pip install tensorflow-text"
      ],
      "execution_count": 1,
      "outputs": [
        {
          "output_type": "stream",
          "name": "stdout",
          "text": [
            "Collecting tensorflow-text\n",
            "  Downloading tensorflow_text-2.8.1-cp37-cp37m-manylinux_2_12_x86_64.manylinux2010_x86_64.whl (4.9 MB)\n",
            "\u001b[K     |████████████████████████████████| 4.9 MB 8.1 MB/s \n",
            "\u001b[?25hRequirement already satisfied: tensorflow-hub>=0.8.0 in /usr/local/lib/python3.7/dist-packages (from tensorflow-text) (0.12.0)\n",
            "Collecting tensorflow<2.9,>=2.8.0\n",
            "  Downloading tensorflow-2.8.0-cp37-cp37m-manylinux2010_x86_64.whl (497.5 MB)\n",
            "\u001b[K     |████████████████████████████████| 497.5 MB 19 kB/s \n",
            "\u001b[?25hRequirement already satisfied: six>=1.12.0 in /usr/local/lib/python3.7/dist-packages (from tensorflow<2.9,>=2.8.0->tensorflow-text) (1.15.0)\n",
            "Requirement already satisfied: setuptools in /usr/local/lib/python3.7/dist-packages (from tensorflow<2.9,>=2.8.0->tensorflow-text) (57.4.0)\n",
            "Collecting tensorboard<2.9,>=2.8\n",
            "  Downloading tensorboard-2.8.0-py3-none-any.whl (5.8 MB)\n",
            "\u001b[K     |████████████████████████████████| 5.8 MB 34.2 MB/s \n",
            "\u001b[?25hRequirement already satisfied: astunparse>=1.6.0 in /usr/local/lib/python3.7/dist-packages (from tensorflow<2.9,>=2.8.0->tensorflow-text) (1.6.3)\n",
            "Requirement already satisfied: opt-einsum>=2.3.2 in /usr/local/lib/python3.7/dist-packages (from tensorflow<2.9,>=2.8.0->tensorflow-text) (3.3.0)\n",
            "Requirement already satisfied: gast>=0.2.1 in /usr/local/lib/python3.7/dist-packages (from tensorflow<2.9,>=2.8.0->tensorflow-text) (0.4.0)\n",
            "Collecting keras<2.9,>=2.8.0rc0\n",
            "  Downloading keras-2.8.0-py2.py3-none-any.whl (1.4 MB)\n",
            "\u001b[K     |████████████████████████████████| 1.4 MB 36.6 MB/s \n",
            "\u001b[?25hRequirement already satisfied: wrapt>=1.11.0 in /usr/local/lib/python3.7/dist-packages (from tensorflow<2.9,>=2.8.0->tensorflow-text) (1.13.3)\n",
            "Collecting numpy>=1.20\n",
            "  Downloading numpy-1.21.5-cp37-cp37m-manylinux_2_12_x86_64.manylinux2010_x86_64.whl (15.7 MB)\n",
            "\u001b[K     |████████████████████████████████| 15.7 MB 211 kB/s \n",
            "\u001b[?25hRequirement already satisfied: flatbuffers>=1.12 in /usr/local/lib/python3.7/dist-packages (from tensorflow<2.9,>=2.8.0->tensorflow-text) (2.0)\n",
            "Requirement already satisfied: google-pasta>=0.1.1 in /usr/local/lib/python3.7/dist-packages (from tensorflow<2.9,>=2.8.0->tensorflow-text) (0.2.0)\n",
            "Requirement already satisfied: termcolor>=1.1.0 in /usr/local/lib/python3.7/dist-packages (from tensorflow<2.9,>=2.8.0->tensorflow-text) (1.1.0)\n",
            "Requirement already satisfied: grpcio<2.0,>=1.24.3 in /usr/local/lib/python3.7/dist-packages (from tensorflow<2.9,>=2.8.0->tensorflow-text) (1.43.0)\n",
            "Requirement already satisfied: typing-extensions>=3.6.6 in /usr/local/lib/python3.7/dist-packages (from tensorflow<2.9,>=2.8.0->tensorflow-text) (3.10.0.2)\n",
            "Requirement already satisfied: protobuf>=3.9.2 in /usr/local/lib/python3.7/dist-packages (from tensorflow<2.9,>=2.8.0->tensorflow-text) (3.17.3)\n",
            "Requirement already satisfied: keras-preprocessing>=1.1.1 in /usr/local/lib/python3.7/dist-packages (from tensorflow<2.9,>=2.8.0->tensorflow-text) (1.1.2)\n",
            "Requirement already satisfied: libclang>=9.0.1 in /usr/local/lib/python3.7/dist-packages (from tensorflow<2.9,>=2.8.0->tensorflow-text) (13.0.0)\n",
            "Requirement already satisfied: absl-py>=0.4.0 in /usr/local/lib/python3.7/dist-packages (from tensorflow<2.9,>=2.8.0->tensorflow-text) (1.0.0)\n",
            "Requirement already satisfied: h5py>=2.9.0 in /usr/local/lib/python3.7/dist-packages (from tensorflow<2.9,>=2.8.0->tensorflow-text) (3.1.0)\n",
            "Requirement already satisfied: tensorflow-io-gcs-filesystem>=0.23.1 in /usr/local/lib/python3.7/dist-packages (from tensorflow<2.9,>=2.8.0->tensorflow-text) (0.24.0)\n",
            "Collecting tf-estimator-nightly==2.8.0.dev2021122109\n",
            "  Downloading tf_estimator_nightly-2.8.0.dev2021122109-py2.py3-none-any.whl (462 kB)\n",
            "\u001b[K     |████████████████████████████████| 462 kB 36.3 MB/s \n",
            "\u001b[?25hRequirement already satisfied: wheel<1.0,>=0.23.0 in /usr/local/lib/python3.7/dist-packages (from astunparse>=1.6.0->tensorflow<2.9,>=2.8.0->tensorflow-text) (0.37.1)\n",
            "Requirement already satisfied: cached-property in /usr/local/lib/python3.7/dist-packages (from h5py>=2.9.0->tensorflow<2.9,>=2.8.0->tensorflow-text) (1.5.2)\n",
            "Requirement already satisfied: werkzeug>=0.11.15 in /usr/local/lib/python3.7/dist-packages (from tensorboard<2.9,>=2.8->tensorflow<2.9,>=2.8.0->tensorflow-text) (1.0.1)\n",
            "Requirement already satisfied: tensorboard-plugin-wit>=1.6.0 in /usr/local/lib/python3.7/dist-packages (from tensorboard<2.9,>=2.8->tensorflow<2.9,>=2.8.0->tensorflow-text) (1.8.1)\n",
            "Requirement already satisfied: requests<3,>=2.21.0 in /usr/local/lib/python3.7/dist-packages (from tensorboard<2.9,>=2.8->tensorflow<2.9,>=2.8.0->tensorflow-text) (2.23.0)\n",
            "Requirement already satisfied: google-auth-oauthlib<0.5,>=0.4.1 in /usr/local/lib/python3.7/dist-packages (from tensorboard<2.9,>=2.8->tensorflow<2.9,>=2.8.0->tensorflow-text) (0.4.6)\n",
            "Requirement already satisfied: tensorboard-data-server<0.7.0,>=0.6.0 in /usr/local/lib/python3.7/dist-packages (from tensorboard<2.9,>=2.8->tensorflow<2.9,>=2.8.0->tensorflow-text) (0.6.1)\n",
            "Requirement already satisfied: google-auth<3,>=1.6.3 in /usr/local/lib/python3.7/dist-packages (from tensorboard<2.9,>=2.8->tensorflow<2.9,>=2.8.0->tensorflow-text) (1.35.0)\n",
            "Requirement already satisfied: markdown>=2.6.8 in /usr/local/lib/python3.7/dist-packages (from tensorboard<2.9,>=2.8->tensorflow<2.9,>=2.8.0->tensorflow-text) (3.3.6)\n",
            "Requirement already satisfied: pyasn1-modules>=0.2.1 in /usr/local/lib/python3.7/dist-packages (from google-auth<3,>=1.6.3->tensorboard<2.9,>=2.8->tensorflow<2.9,>=2.8.0->tensorflow-text) (0.2.8)\n",
            "Requirement already satisfied: cachetools<5.0,>=2.0.0 in /usr/local/lib/python3.7/dist-packages (from google-auth<3,>=1.6.3->tensorboard<2.9,>=2.8->tensorflow<2.9,>=2.8.0->tensorflow-text) (4.2.4)\n",
            "Requirement already satisfied: rsa<5,>=3.1.4 in /usr/local/lib/python3.7/dist-packages (from google-auth<3,>=1.6.3->tensorboard<2.9,>=2.8->tensorflow<2.9,>=2.8.0->tensorflow-text) (4.8)\n",
            "Requirement already satisfied: requests-oauthlib>=0.7.0 in /usr/local/lib/python3.7/dist-packages (from google-auth-oauthlib<0.5,>=0.4.1->tensorboard<2.9,>=2.8->tensorflow<2.9,>=2.8.0->tensorflow-text) (1.3.1)\n",
            "Requirement already satisfied: importlib-metadata>=4.4 in /usr/local/lib/python3.7/dist-packages (from markdown>=2.6.8->tensorboard<2.9,>=2.8->tensorflow<2.9,>=2.8.0->tensorflow-text) (4.10.1)\n",
            "Requirement already satisfied: zipp>=0.5 in /usr/local/lib/python3.7/dist-packages (from importlib-metadata>=4.4->markdown>=2.6.8->tensorboard<2.9,>=2.8->tensorflow<2.9,>=2.8.0->tensorflow-text) (3.7.0)\n",
            "Requirement already satisfied: pyasn1<0.5.0,>=0.4.6 in /usr/local/lib/python3.7/dist-packages (from pyasn1-modules>=0.2.1->google-auth<3,>=1.6.3->tensorboard<2.9,>=2.8->tensorflow<2.9,>=2.8.0->tensorflow-text) (0.4.8)\n",
            "Requirement already satisfied: idna<3,>=2.5 in /usr/local/lib/python3.7/dist-packages (from requests<3,>=2.21.0->tensorboard<2.9,>=2.8->tensorflow<2.9,>=2.8.0->tensorflow-text) (2.10)\n",
            "Requirement already satisfied: chardet<4,>=3.0.2 in /usr/local/lib/python3.7/dist-packages (from requests<3,>=2.21.0->tensorboard<2.9,>=2.8->tensorflow<2.9,>=2.8.0->tensorflow-text) (3.0.4)\n",
            "Requirement already satisfied: urllib3!=1.25.0,!=1.25.1,<1.26,>=1.21.1 in /usr/local/lib/python3.7/dist-packages (from requests<3,>=2.21.0->tensorboard<2.9,>=2.8->tensorflow<2.9,>=2.8.0->tensorflow-text) (1.24.3)\n",
            "Requirement already satisfied: certifi>=2017.4.17 in /usr/local/lib/python3.7/dist-packages (from requests<3,>=2.21.0->tensorboard<2.9,>=2.8->tensorflow<2.9,>=2.8.0->tensorflow-text) (2021.10.8)\n",
            "Requirement already satisfied: oauthlib>=3.0.0 in /usr/local/lib/python3.7/dist-packages (from requests-oauthlib>=0.7.0->google-auth-oauthlib<0.5,>=0.4.1->tensorboard<2.9,>=2.8->tensorflow<2.9,>=2.8.0->tensorflow-text) (3.2.0)\n",
            "Installing collected packages: numpy, tf-estimator-nightly, tensorboard, keras, tensorflow, tensorflow-text\n",
            "  Attempting uninstall: numpy\n",
            "    Found existing installation: numpy 1.19.5\n",
            "    Uninstalling numpy-1.19.5:\n",
            "      Successfully uninstalled numpy-1.19.5\n",
            "  Attempting uninstall: tensorboard\n",
            "    Found existing installation: tensorboard 2.7.0\n",
            "    Uninstalling tensorboard-2.7.0:\n",
            "      Successfully uninstalled tensorboard-2.7.0\n",
            "  Attempting uninstall: keras\n",
            "    Found existing installation: keras 2.7.0\n",
            "    Uninstalling keras-2.7.0:\n",
            "      Successfully uninstalled keras-2.7.0\n",
            "  Attempting uninstall: tensorflow\n",
            "    Found existing installation: tensorflow 2.7.0\n",
            "    Uninstalling tensorflow-2.7.0:\n",
            "      Successfully uninstalled tensorflow-2.7.0\n",
            "\u001b[31mERROR: pip's dependency resolver does not currently take into account all the packages that are installed. This behaviour is the source of the following dependency conflicts.\n",
            "yellowbrick 1.3.post1 requires numpy<1.20,>=1.16.0, but you have numpy 1.21.5 which is incompatible.\n",
            "datascience 0.10.6 requires folium==0.2.1, but you have folium 0.8.3 which is incompatible.\n",
            "albumentations 0.1.12 requires imgaug<0.2.7,>=0.2.5, but you have imgaug 0.2.9 which is incompatible.\u001b[0m\n",
            "Successfully installed keras-2.8.0 numpy-1.21.5 tensorboard-2.8.0 tensorflow-2.8.0 tensorflow-text-2.8.1 tf-estimator-nightly-2.8.0.dev2021122109\n"
          ]
        },
        {
          "output_type": "display_data",
          "data": {
            "application/vnd.colab-display-data+json": {
              "pip_warning": {
                "packages": [
                  "numpy"
                ]
              }
            }
          },
          "metadata": {}
        }
      ]
    },
    {
      "cell_type": "code",
      "metadata": {
        "id": "3mRd3jqVisNU"
      },
      "source": [
        "import tensorflow as tf\n",
        "import tensorflow_hub as hub\n",
        "from tensorflow.keras import models,layers\n",
        "import tensorflow_text as text"
      ],
      "execution_count": 1,
      "outputs": []
    },
    {
      "cell_type": "code",
      "metadata": {
        "id": "0LBV4lgLEDYb"
      },
      "source": [
        "text_input = layers.Input(shape=(),dtype=tf.string)\n",
        "prep = hub.KerasLayer(\"https://tfhub.dev/tensorflow/bert_en_uncased_preprocess/3\")\n",
        "encoder_inputs = prep(text_input)\n",
        "\n",
        "encoder = hub.KerasLayer(\"https://tfhub.dev/tensorflow/small_bert/bert_en_uncased_L-4_H-512_A-8/2\",trainable=True)\n",
        "outputs = encoder(encoder_inputs)\n",
        "pooled_output = outputs[\"pooled_output\"] #[batchsize,512]\n",
        "sequence_ouptut = outputs[\"sequence_output\"] #[batchsize,seqlength,512]"
      ],
      "execution_count": 2,
      "outputs": []
    },
    {
      "cell_type": "code",
      "metadata": {
        "colab": {
          "base_uri": "https://localhost:8080/"
        },
        "id": "BZ_mFcJ5FPBm",
        "outputId": "efb3cd8c-cf68-4c01-c067-2c7ac23dd0a7"
      },
      "source": [
        "embedding_model = tf.keras.Model(text_input, pooled_output)\n",
        "sentences = tf.constant([\"(your text here)\"])\n",
        "print(embedding_model(sentences).shape)"
      ],
      "execution_count": 3,
      "outputs": [
        {
          "output_type": "stream",
          "name": "stdout",
          "text": [
            "(1, 512)\n"
          ]
        }
      ]
    },
    {
      "cell_type": "code",
      "metadata": {
        "colab": {
          "base_uri": "https://localhost:8080/"
        },
        "id": "g8jZZtGXGP__",
        "outputId": "aee6c1bb-3daa-423d-972d-aa0d133db7e4"
      },
      "source": [
        "embedding_model2 = tf.keras.Model(text_input, sequence_ouptut)\n",
        "sentences = tf.constant([\"My name is anshu here, who are you\"])\n",
        "print(embedding_model2(sentences).shape)"
      ],
      "execution_count": 4,
      "outputs": [
        {
          "output_type": "stream",
          "name": "stdout",
          "text": [
            "(1, 128, 512)\n"
          ]
        }
      ]
    },
    {
      "cell_type": "code",
      "metadata": {
        "colab": {
          "base_uri": "https://localhost:8080/"
        },
        "id": "atCflHNeGlNG",
        "outputId": "06f33109-1f2c-4a3c-fe14-357a87d51a95"
      },
      "source": [
        "sentences.shape"
      ],
      "execution_count": 5,
      "outputs": [
        {
          "output_type": "execute_result",
          "data": {
            "text/plain": [
              "TensorShape([1])"
            ]
          },
          "metadata": {},
          "execution_count": 5
        }
      ]
    },
    {
      "cell_type": "code",
      "metadata": {
        "id": "5YOVb8_Yi9Oy",
        "colab": {
          "base_uri": "https://localhost:8080/"
        },
        "outputId": "121e8ab6-0f51-4f6b-fb00-28a48b0ed1d5"
      },
      "source": [
        "doc1 = [\"India\"]\n",
        "doc2 = [\"I love coding\"]\n",
        "doc3 = [\"I love python porgamming and Data Science. Machine Learning is amazing.\"]\n",
        "data = [doc1,doc2,doc3]\n",
        "for doc in data:\n",
        "  doc = tf.constant(doc)\n",
        "  print(embedding_model(doc).shape)"
      ],
      "execution_count": 6,
      "outputs": [
        {
          "output_type": "stream",
          "name": "stdout",
          "text": [
            "(1, 512)\n",
            "(1, 512)\n",
            "(1, 512)\n"
          ]
        }
      ]
    },
    {
      "cell_type": "code",
      "metadata": {
        "colab": {
          "base_uri": "https://localhost:8080/"
        },
        "id": "qzfdge_vTTI7",
        "outputId": "9473dfb7-8bc1-4b0d-81db-31d749d64c00"
      },
      "source": [
        "for doc in data:\n",
        "  doc = tf.constant(doc)\n",
        "  print(embedding_model2(doc).shape)"
      ],
      "execution_count": 7,
      "outputs": [
        {
          "output_type": "stream",
          "name": "stdout",
          "text": [
            "(1, 128, 512)\n",
            "(1, 128, 512)\n",
            "(1, 128, 512)\n"
          ]
        }
      ]
    },
    {
      "cell_type": "markdown",
      "metadata": {
        "id": "2aps-TOgTWb8"
      },
      "source": [
        "# Text Classification"
      ]
    },
    {
      "cell_type": "code",
      "metadata": {
        "id": "HIAXLtnvkEms"
      },
      "source": [
        "# Text Classification"
      ],
      "execution_count": 8,
      "outputs": []
    },
    {
      "cell_type": "code",
      "metadata": {
        "id": "ZG8sUdKtzMih"
      },
      "source": [
        "!wget -q https://www.dropbox.com/s/p1z32pkhs9j7cv3/test_data.txt\n",
        "!wget -q https://www.dropbox.com/s/ed3qcu1231e8ubx/train_5500.txt"
      ],
      "execution_count": 9,
      "outputs": []
    },
    {
      "cell_type": "code",
      "metadata": {
        "id": "518KnDYKnKjf"
      },
      "source": [
        "train_data = open(\"train_5500.txt\").readlines()\n",
        "test_data = open(\"test_data.txt\").readlines()"
      ],
      "execution_count": 10,
      "outputs": []
    },
    {
      "cell_type": "code",
      "metadata": {
        "id": "x6cb1MnSnTW4",
        "colab": {
          "base_uri": "https://localhost:8080/"
        },
        "outputId": "78d5d9f4-3963-49e1-e1a5-8c95b5a29b1a"
      },
      "source": [
        "len(train_data)"
      ],
      "execution_count": 11,
      "outputs": [
        {
          "output_type": "execute_result",
          "data": {
            "text/plain": [
              "5452"
            ]
          },
          "metadata": {},
          "execution_count": 11
        }
      ]
    },
    {
      "cell_type": "code",
      "metadata": {
        "id": "WyI6gZ85nVUA",
        "colab": {
          "base_uri": "https://localhost:8080/"
        },
        "outputId": "9a5c77e0-5b43-4db6-b67d-18e75ba2e1dc"
      },
      "source": [
        "len(test_data)"
      ],
      "execution_count": 12,
      "outputs": [
        {
          "output_type": "execute_result",
          "data": {
            "text/plain": [
              "500"
            ]
          },
          "metadata": {},
          "execution_count": 12
        }
      ]
    },
    {
      "cell_type": "code",
      "metadata": {
        "id": "hq43cNhJnepg",
        "colab": {
          "base_uri": "https://localhost:8080/"
        },
        "outputId": "f1e4ea2a-14ec-4ea5-c8d5-7d2fe7efc803"
      },
      "source": [
        "train_data[:5]"
      ],
      "execution_count": 13,
      "outputs": [
        {
          "output_type": "execute_result",
          "data": {
            "text/plain": [
              "['DESC:manner How did serfdom develop in and then leave Russia ?\\n',\n",
              " 'ENTY:cremat What films featured the character Popeye Doyle ?\\n',\n",
              " \"DESC:manner How can I find a list of celebrities ' real names ?\\n\",\n",
              " 'ENTY:animal What fowl grabs the spotlight after the Chinese Year of the Monkey ?\\n',\n",
              " 'ABBR:exp What is the full form of .com ?\\n']"
            ]
          },
          "metadata": {},
          "execution_count": 13
        }
      ]
    },
    {
      "cell_type": "code",
      "metadata": {
        "id": "pXN2j4kln5Ow"
      },
      "source": [
        "def prepare_data(data):\n",
        "  x = []\n",
        "  y = []\n",
        "  for doc in data:\n",
        "    docs = doc.split(\" \")\n",
        "    y.append(docs[0].split(\":\")[0])\n",
        "    x.append(\" \".join(docs[1:]).strip())\n",
        "  return x,y\n"
      ],
      "execution_count": 14,
      "outputs": []
    },
    {
      "cell_type": "code",
      "metadata": {
        "id": "h1PMEX4DoIHT"
      },
      "source": [
        "xtrain,ytrain = prepare_data(train_data)\n",
        "xtest,ytest = prepare_data(test_data)"
      ],
      "execution_count": 15,
      "outputs": []
    },
    {
      "cell_type": "code",
      "metadata": {
        "id": "KapSq4tDpS0e"
      },
      "source": [
        "import pandas as pd"
      ],
      "execution_count": 16,
      "outputs": []
    },
    {
      "cell_type": "code",
      "metadata": {
        "id": "kVT4C3pFpO1T",
        "colab": {
          "base_uri": "https://localhost:8080/",
          "height": 206
        },
        "outputId": "10c13361-ae8c-4a99-a28c-d39c255da3c5"
      },
      "source": [
        "ytrain = pd.DataFrame(ytrain)\n",
        "ytrain = pd.get_dummies(ytrain)\n",
        "ytrain.head()"
      ],
      "execution_count": 17,
      "outputs": [
        {
          "output_type": "execute_result",
          "data": {
            "text/html": [
              "\n",
              "  <div id=\"df-3377793b-0fe4-4d15-9a48-9cbe4d1a03ba\">\n",
              "    <div class=\"colab-df-container\">\n",
              "      <div>\n",
              "<style scoped>\n",
              "    .dataframe tbody tr th:only-of-type {\n",
              "        vertical-align: middle;\n",
              "    }\n",
              "\n",
              "    .dataframe tbody tr th {\n",
              "        vertical-align: top;\n",
              "    }\n",
              "\n",
              "    .dataframe thead th {\n",
              "        text-align: right;\n",
              "    }\n",
              "</style>\n",
              "<table border=\"1\" class=\"dataframe\">\n",
              "  <thead>\n",
              "    <tr style=\"text-align: right;\">\n",
              "      <th></th>\n",
              "      <th>0_ABBR</th>\n",
              "      <th>0_DESC</th>\n",
              "      <th>0_ENTY</th>\n",
              "      <th>0_HUM</th>\n",
              "      <th>0_LOC</th>\n",
              "      <th>0_NUM</th>\n",
              "    </tr>\n",
              "  </thead>\n",
              "  <tbody>\n",
              "    <tr>\n",
              "      <th>0</th>\n",
              "      <td>0</td>\n",
              "      <td>1</td>\n",
              "      <td>0</td>\n",
              "      <td>0</td>\n",
              "      <td>0</td>\n",
              "      <td>0</td>\n",
              "    </tr>\n",
              "    <tr>\n",
              "      <th>1</th>\n",
              "      <td>0</td>\n",
              "      <td>0</td>\n",
              "      <td>1</td>\n",
              "      <td>0</td>\n",
              "      <td>0</td>\n",
              "      <td>0</td>\n",
              "    </tr>\n",
              "    <tr>\n",
              "      <th>2</th>\n",
              "      <td>0</td>\n",
              "      <td>1</td>\n",
              "      <td>0</td>\n",
              "      <td>0</td>\n",
              "      <td>0</td>\n",
              "      <td>0</td>\n",
              "    </tr>\n",
              "    <tr>\n",
              "      <th>3</th>\n",
              "      <td>0</td>\n",
              "      <td>0</td>\n",
              "      <td>1</td>\n",
              "      <td>0</td>\n",
              "      <td>0</td>\n",
              "      <td>0</td>\n",
              "    </tr>\n",
              "    <tr>\n",
              "      <th>4</th>\n",
              "      <td>1</td>\n",
              "      <td>0</td>\n",
              "      <td>0</td>\n",
              "      <td>0</td>\n",
              "      <td>0</td>\n",
              "      <td>0</td>\n",
              "    </tr>\n",
              "  </tbody>\n",
              "</table>\n",
              "</div>\n",
              "      <button class=\"colab-df-convert\" onclick=\"convertToInteractive('df-3377793b-0fe4-4d15-9a48-9cbe4d1a03ba')\"\n",
              "              title=\"Convert this dataframe to an interactive table.\"\n",
              "              style=\"display:none;\">\n",
              "        \n",
              "  <svg xmlns=\"http://www.w3.org/2000/svg\" height=\"24px\"viewBox=\"0 0 24 24\"\n",
              "       width=\"24px\">\n",
              "    <path d=\"M0 0h24v24H0V0z\" fill=\"none\"/>\n",
              "    <path d=\"M18.56 5.44l.94 2.06.94-2.06 2.06-.94-2.06-.94-.94-2.06-.94 2.06-2.06.94zm-11 1L8.5 8.5l.94-2.06 2.06-.94-2.06-.94L8.5 2.5l-.94 2.06-2.06.94zm10 10l.94 2.06.94-2.06 2.06-.94-2.06-.94-.94-2.06-.94 2.06-2.06.94z\"/><path d=\"M17.41 7.96l-1.37-1.37c-.4-.4-.92-.59-1.43-.59-.52 0-1.04.2-1.43.59L10.3 9.45l-7.72 7.72c-.78.78-.78 2.05 0 2.83L4 21.41c.39.39.9.59 1.41.59.51 0 1.02-.2 1.41-.59l7.78-7.78 2.81-2.81c.8-.78.8-2.07 0-2.86zM5.41 20L4 18.59l7.72-7.72 1.47 1.35L5.41 20z\"/>\n",
              "  </svg>\n",
              "      </button>\n",
              "      \n",
              "  <style>\n",
              "    .colab-df-container {\n",
              "      display:flex;\n",
              "      flex-wrap:wrap;\n",
              "      gap: 12px;\n",
              "    }\n",
              "\n",
              "    .colab-df-convert {\n",
              "      background-color: #E8F0FE;\n",
              "      border: none;\n",
              "      border-radius: 50%;\n",
              "      cursor: pointer;\n",
              "      display: none;\n",
              "      fill: #1967D2;\n",
              "      height: 32px;\n",
              "      padding: 0 0 0 0;\n",
              "      width: 32px;\n",
              "    }\n",
              "\n",
              "    .colab-df-convert:hover {\n",
              "      background-color: #E2EBFA;\n",
              "      box-shadow: 0px 1px 2px rgba(60, 64, 67, 0.3), 0px 1px 3px 1px rgba(60, 64, 67, 0.15);\n",
              "      fill: #174EA6;\n",
              "    }\n",
              "\n",
              "    [theme=dark] .colab-df-convert {\n",
              "      background-color: #3B4455;\n",
              "      fill: #D2E3FC;\n",
              "    }\n",
              "\n",
              "    [theme=dark] .colab-df-convert:hover {\n",
              "      background-color: #434B5C;\n",
              "      box-shadow: 0px 1px 3px 1px rgba(0, 0, 0, 0.15);\n",
              "      filter: drop-shadow(0px 1px 2px rgba(0, 0, 0, 0.3));\n",
              "      fill: #FFFFFF;\n",
              "    }\n",
              "  </style>\n",
              "\n",
              "      <script>\n",
              "        const buttonEl =\n",
              "          document.querySelector('#df-3377793b-0fe4-4d15-9a48-9cbe4d1a03ba button.colab-df-convert');\n",
              "        buttonEl.style.display =\n",
              "          google.colab.kernel.accessAllowed ? 'block' : 'none';\n",
              "\n",
              "        async function convertToInteractive(key) {\n",
              "          const element = document.querySelector('#df-3377793b-0fe4-4d15-9a48-9cbe4d1a03ba');\n",
              "          const dataTable =\n",
              "            await google.colab.kernel.invokeFunction('convertToInteractive',\n",
              "                                                     [key], {});\n",
              "          if (!dataTable) return;\n",
              "\n",
              "          const docLinkHtml = 'Like what you see? Visit the ' +\n",
              "            '<a target=\"_blank\" href=https://colab.research.google.com/notebooks/data_table.ipynb>data table notebook</a>'\n",
              "            + ' to learn more about interactive tables.';\n",
              "          element.innerHTML = '';\n",
              "          dataTable['output_type'] = 'display_data';\n",
              "          await google.colab.output.renderOutput(dataTable, element);\n",
              "          const docLink = document.createElement('div');\n",
              "          docLink.innerHTML = docLinkHtml;\n",
              "          element.appendChild(docLink);\n",
              "        }\n",
              "      </script>\n",
              "    </div>\n",
              "  </div>\n",
              "  "
            ],
            "text/plain": [
              "   0_ABBR  0_DESC  0_ENTY  0_HUM  0_LOC  0_NUM\n",
              "0       0       1       0      0      0      0\n",
              "1       0       0       1      0      0      0\n",
              "2       0       1       0      0      0      0\n",
              "3       0       0       1      0      0      0\n",
              "4       1       0       0      0      0      0"
            ]
          },
          "metadata": {},
          "execution_count": 17
        }
      ]
    },
    {
      "cell_type": "code",
      "metadata": {
        "id": "fKQBHApYoKV0",
        "colab": {
          "base_uri": "https://localhost:8080/",
          "height": 206
        },
        "outputId": "603c7225-8ae6-4eb1-cc59-4d9267981765"
      },
      "source": [
        "ytest = pd.DataFrame(ytest)\n",
        "ytest = pd.get_dummies(ytest)\n",
        "ytest.head()"
      ],
      "execution_count": 18,
      "outputs": [
        {
          "output_type": "execute_result",
          "data": {
            "text/html": [
              "\n",
              "  <div id=\"df-4085be83-7d8d-4a0b-afcc-3a22907fcd55\">\n",
              "    <div class=\"colab-df-container\">\n",
              "      <div>\n",
              "<style scoped>\n",
              "    .dataframe tbody tr th:only-of-type {\n",
              "        vertical-align: middle;\n",
              "    }\n",
              "\n",
              "    .dataframe tbody tr th {\n",
              "        vertical-align: top;\n",
              "    }\n",
              "\n",
              "    .dataframe thead th {\n",
              "        text-align: right;\n",
              "    }\n",
              "</style>\n",
              "<table border=\"1\" class=\"dataframe\">\n",
              "  <thead>\n",
              "    <tr style=\"text-align: right;\">\n",
              "      <th></th>\n",
              "      <th>0_ABBR</th>\n",
              "      <th>0_DESC</th>\n",
              "      <th>0_ENTY</th>\n",
              "      <th>0_HUM</th>\n",
              "      <th>0_LOC</th>\n",
              "      <th>0_NUM</th>\n",
              "    </tr>\n",
              "  </thead>\n",
              "  <tbody>\n",
              "    <tr>\n",
              "      <th>0</th>\n",
              "      <td>0</td>\n",
              "      <td>0</td>\n",
              "      <td>0</td>\n",
              "      <td>0</td>\n",
              "      <td>0</td>\n",
              "      <td>1</td>\n",
              "    </tr>\n",
              "    <tr>\n",
              "      <th>1</th>\n",
              "      <td>0</td>\n",
              "      <td>0</td>\n",
              "      <td>0</td>\n",
              "      <td>0</td>\n",
              "      <td>1</td>\n",
              "      <td>0</td>\n",
              "    </tr>\n",
              "    <tr>\n",
              "      <th>2</th>\n",
              "      <td>0</td>\n",
              "      <td>0</td>\n",
              "      <td>0</td>\n",
              "      <td>1</td>\n",
              "      <td>0</td>\n",
              "      <td>0</td>\n",
              "    </tr>\n",
              "    <tr>\n",
              "      <th>3</th>\n",
              "      <td>0</td>\n",
              "      <td>1</td>\n",
              "      <td>0</td>\n",
              "      <td>0</td>\n",
              "      <td>0</td>\n",
              "      <td>0</td>\n",
              "    </tr>\n",
              "    <tr>\n",
              "      <th>4</th>\n",
              "      <td>0</td>\n",
              "      <td>0</td>\n",
              "      <td>0</td>\n",
              "      <td>0</td>\n",
              "      <td>0</td>\n",
              "      <td>1</td>\n",
              "    </tr>\n",
              "  </tbody>\n",
              "</table>\n",
              "</div>\n",
              "      <button class=\"colab-df-convert\" onclick=\"convertToInteractive('df-4085be83-7d8d-4a0b-afcc-3a22907fcd55')\"\n",
              "              title=\"Convert this dataframe to an interactive table.\"\n",
              "              style=\"display:none;\">\n",
              "        \n",
              "  <svg xmlns=\"http://www.w3.org/2000/svg\" height=\"24px\"viewBox=\"0 0 24 24\"\n",
              "       width=\"24px\">\n",
              "    <path d=\"M0 0h24v24H0V0z\" fill=\"none\"/>\n",
              "    <path d=\"M18.56 5.44l.94 2.06.94-2.06 2.06-.94-2.06-.94-.94-2.06-.94 2.06-2.06.94zm-11 1L8.5 8.5l.94-2.06 2.06-.94-2.06-.94L8.5 2.5l-.94 2.06-2.06.94zm10 10l.94 2.06.94-2.06 2.06-.94-2.06-.94-.94-2.06-.94 2.06-2.06.94z\"/><path d=\"M17.41 7.96l-1.37-1.37c-.4-.4-.92-.59-1.43-.59-.52 0-1.04.2-1.43.59L10.3 9.45l-7.72 7.72c-.78.78-.78 2.05 0 2.83L4 21.41c.39.39.9.59 1.41.59.51 0 1.02-.2 1.41-.59l7.78-7.78 2.81-2.81c.8-.78.8-2.07 0-2.86zM5.41 20L4 18.59l7.72-7.72 1.47 1.35L5.41 20z\"/>\n",
              "  </svg>\n",
              "      </button>\n",
              "      \n",
              "  <style>\n",
              "    .colab-df-container {\n",
              "      display:flex;\n",
              "      flex-wrap:wrap;\n",
              "      gap: 12px;\n",
              "    }\n",
              "\n",
              "    .colab-df-convert {\n",
              "      background-color: #E8F0FE;\n",
              "      border: none;\n",
              "      border-radius: 50%;\n",
              "      cursor: pointer;\n",
              "      display: none;\n",
              "      fill: #1967D2;\n",
              "      height: 32px;\n",
              "      padding: 0 0 0 0;\n",
              "      width: 32px;\n",
              "    }\n",
              "\n",
              "    .colab-df-convert:hover {\n",
              "      background-color: #E2EBFA;\n",
              "      box-shadow: 0px 1px 2px rgba(60, 64, 67, 0.3), 0px 1px 3px 1px rgba(60, 64, 67, 0.15);\n",
              "      fill: #174EA6;\n",
              "    }\n",
              "\n",
              "    [theme=dark] .colab-df-convert {\n",
              "      background-color: #3B4455;\n",
              "      fill: #D2E3FC;\n",
              "    }\n",
              "\n",
              "    [theme=dark] .colab-df-convert:hover {\n",
              "      background-color: #434B5C;\n",
              "      box-shadow: 0px 1px 3px 1px rgba(0, 0, 0, 0.15);\n",
              "      filter: drop-shadow(0px 1px 2px rgba(0, 0, 0, 0.3));\n",
              "      fill: #FFFFFF;\n",
              "    }\n",
              "  </style>\n",
              "\n",
              "      <script>\n",
              "        const buttonEl =\n",
              "          document.querySelector('#df-4085be83-7d8d-4a0b-afcc-3a22907fcd55 button.colab-df-convert');\n",
              "        buttonEl.style.display =\n",
              "          google.colab.kernel.accessAllowed ? 'block' : 'none';\n",
              "\n",
              "        async function convertToInteractive(key) {\n",
              "          const element = document.querySelector('#df-4085be83-7d8d-4a0b-afcc-3a22907fcd55');\n",
              "          const dataTable =\n",
              "            await google.colab.kernel.invokeFunction('convertToInteractive',\n",
              "                                                     [key], {});\n",
              "          if (!dataTable) return;\n",
              "\n",
              "          const docLinkHtml = 'Like what you see? Visit the ' +\n",
              "            '<a target=\"_blank\" href=https://colab.research.google.com/notebooks/data_table.ipynb>data table notebook</a>'\n",
              "            + ' to learn more about interactive tables.';\n",
              "          element.innerHTML = '';\n",
              "          dataTable['output_type'] = 'display_data';\n",
              "          await google.colab.output.renderOutput(dataTable, element);\n",
              "          const docLink = document.createElement('div');\n",
              "          docLink.innerHTML = docLinkHtml;\n",
              "          element.appendChild(docLink);\n",
              "        }\n",
              "      </script>\n",
              "    </div>\n",
              "  </div>\n",
              "  "
            ],
            "text/plain": [
              "   0_ABBR  0_DESC  0_ENTY  0_HUM  0_LOC  0_NUM\n",
              "0       0       0       0      0      0      1\n",
              "1       0       0       0      0      1      0\n",
              "2       0       0       0      1      0      0\n",
              "3       0       1       0      0      0      0\n",
              "4       0       0       0      0      0      1"
            ]
          },
          "metadata": {},
          "execution_count": 18
        }
      ]
    },
    {
      "cell_type": "code",
      "metadata": {
        "id": "Bqnk0y76pC8p",
        "colab": {
          "base_uri": "https://localhost:8080/"
        },
        "outputId": "ba7a3221-95b4-4053-e78e-b8fa9ed695ef"
      },
      "source": [
        "categories = list(ytrain.columns)\n",
        "categories = [i[2:] for i in categories]\n",
        "categories"
      ],
      "execution_count": 19,
      "outputs": [
        {
          "output_type": "execute_result",
          "data": {
            "text/plain": [
              "['ABBR', 'DESC', 'ENTY', 'HUM', 'LOC', 'NUM']"
            ]
          },
          "metadata": {},
          "execution_count": 19
        }
      ]
    },
    {
      "cell_type": "markdown",
      "metadata": {
        "id": "RHaiJMIVqIcb"
      },
      "source": [
        "### Text Classification using Transfer learning"
      ]
    },
    {
      "cell_type": "code",
      "metadata": {
        "id": "Io5eVHdyqHqt"
      },
      "source": [
        "# create a function which will accept a text doc and return the corresponding vector\n",
        "def sent2vec(doc):\n",
        "  vector = embedding_model(tf.squeeze(tf.cast(doc,tf.string),axis=1))\n",
        "  return vector"
      ],
      "execution_count": 20,
      "outputs": []
    },
    {
      "cell_type": "code",
      "metadata": {
        "id": "6v4iwecapr98"
      },
      "source": [
        "from tensorflow.keras import models,layers"
      ],
      "execution_count": 21,
      "outputs": []
    },
    {
      "cell_type": "code",
      "metadata": {
        "id": "T3hyI3-orHCi",
        "colab": {
          "base_uri": "https://localhost:8080/"
        },
        "outputId": "58c1d8b0-762d-4fe3-dede-035551761c49"
      },
      "source": [
        "input_layer = layers.Input(shape=(1,),dtype='string')\n",
        "embedding_layer = layers.Lambda(sent2vec,output_shape=(512,))(input_layer)\n",
        "dense1 = layers.Dense(256,activation='relu')(embedding_layer)\n",
        "output_layer = layers.Dense(6,activation='softmax')(dense1)\n",
        "\n",
        "model = models.Model(inputs=[input_layer],outputs=output_layer)\n",
        "model.compile(loss='categorical_crossentropy',optimizer='adam',metrics=['accuracy'])"
      ],
      "execution_count": 22,
      "outputs": [
        {
          "output_type": "stream",
          "name": "stdout",
          "text": [
            "WARNING:tensorflow:\n",
            "The following Variables were used a Lambda layer's call (lambda), but\n",
            "are not present in its tracked objects:\n",
            "  <tf.Variable 'pooler_transform/bias:0' shape=(512,) dtype=float32>\n",
            "  <tf.Variable 'pooler_transform/kernel:0' shape=(512, 512) dtype=float32>\n",
            "  <tf.Variable 'transformer/layer_3/output_layer_norm/beta:0' shape=(512,) dtype=float32>\n",
            "  <tf.Variable 'transformer/layer_3/output_layer_norm/gamma:0' shape=(512,) dtype=float32>\n",
            "  <tf.Variable 'transformer/layer_3/output/bias:0' shape=(512,) dtype=float32>\n",
            "  <tf.Variable 'transformer/layer_3/output/kernel:0' shape=(2048, 512) dtype=float32>\n",
            "  <tf.Variable 'transformer/layer_3/intermediate/bias:0' shape=(2048,) dtype=float32>\n",
            "  <tf.Variable 'transformer/layer_3/intermediate/kernel:0' shape=(512, 2048) dtype=float32>\n",
            "  <tf.Variable 'transformer/layer_3/self_attention_layer_norm/beta:0' shape=(512,) dtype=float32>\n",
            "  <tf.Variable 'transformer/layer_3/self_attention_layer_norm/gamma:0' shape=(512,) dtype=float32>\n",
            "  <tf.Variable 'transformer/layer_3/self_attention/attention_output/bias:0' shape=(512,) dtype=float32>\n",
            "  <tf.Variable 'transformer/layer_3/self_attention/attention_output/kernel:0' shape=(8, 64, 512) dtype=float32>\n",
            "  <tf.Variable 'transformer/layer_3/self_attention/value/bias:0' shape=(8, 64) dtype=float32>\n",
            "  <tf.Variable 'transformer/layer_3/self_attention/value/kernel:0' shape=(512, 8, 64) dtype=float32>\n",
            "  <tf.Variable 'transformer/layer_3/self_attention/key/bias:0' shape=(8, 64) dtype=float32>\n",
            "  <tf.Variable 'transformer/layer_3/self_attention/key/kernel:0' shape=(512, 8, 64) dtype=float32>\n",
            "  <tf.Variable 'transformer/layer_3/self_attention/query/bias:0' shape=(8, 64) dtype=float32>\n",
            "  <tf.Variable 'transformer/layer_3/self_attention/query/kernel:0' shape=(512, 8, 64) dtype=float32>\n",
            "  <tf.Variable 'transformer/layer_2/output_layer_norm/beta:0' shape=(512,) dtype=float32>\n",
            "  <tf.Variable 'transformer/layer_2/output_layer_norm/gamma:0' shape=(512,) dtype=float32>\n",
            "  <tf.Variable 'transformer/layer_2/output/bias:0' shape=(512,) dtype=float32>\n",
            "  <tf.Variable 'transformer/layer_2/output/kernel:0' shape=(2048, 512) dtype=float32>\n",
            "  <tf.Variable 'transformer/layer_2/intermediate/bias:0' shape=(2048,) dtype=float32>\n",
            "  <tf.Variable 'transformer/layer_2/intermediate/kernel:0' shape=(512, 2048) dtype=float32>\n",
            "  <tf.Variable 'transformer/layer_2/self_attention_layer_norm/beta:0' shape=(512,) dtype=float32>\n",
            "  <tf.Variable 'transformer/layer_2/self_attention_layer_norm/gamma:0' shape=(512,) dtype=float32>\n",
            "  <tf.Variable 'transformer/layer_2/self_attention/attention_output/bias:0' shape=(512,) dtype=float32>\n",
            "  <tf.Variable 'transformer/layer_2/self_attention/attention_output/kernel:0' shape=(8, 64, 512) dtype=float32>\n",
            "  <tf.Variable 'transformer/layer_2/self_attention/value/bias:0' shape=(8, 64) dtype=float32>\n",
            "  <tf.Variable 'transformer/layer_2/self_attention/value/kernel:0' shape=(512, 8, 64) dtype=float32>\n",
            "  <tf.Variable 'transformer/layer_2/self_attention/key/bias:0' shape=(8, 64) dtype=float32>\n",
            "  <tf.Variable 'transformer/layer_2/self_attention/key/kernel:0' shape=(512, 8, 64) dtype=float32>\n",
            "  <tf.Variable 'transformer/layer_2/self_attention/query/bias:0' shape=(8, 64) dtype=float32>\n",
            "  <tf.Variable 'transformer/layer_2/self_attention/query/kernel:0' shape=(512, 8, 64) dtype=float32>\n",
            "  <tf.Variable 'transformer/layer_1/output_layer_norm/beta:0' shape=(512,) dtype=float32>\n",
            "  <tf.Variable 'transformer/layer_1/output_layer_norm/gamma:0' shape=(512,) dtype=float32>\n",
            "  <tf.Variable 'transformer/layer_1/output/bias:0' shape=(512,) dtype=float32>\n",
            "  <tf.Variable 'transformer/layer_1/output/kernel:0' shape=(2048, 512) dtype=float32>\n",
            "  <tf.Variable 'transformer/layer_1/intermediate/bias:0' shape=(2048,) dtype=float32>\n",
            "  <tf.Variable 'transformer/layer_1/intermediate/kernel:0' shape=(512, 2048) dtype=float32>\n",
            "  <tf.Variable 'transformer/layer_1/self_attention_layer_norm/beta:0' shape=(512,) dtype=float32>\n",
            "  <tf.Variable 'transformer/layer_1/self_attention_layer_norm/gamma:0' shape=(512,) dtype=float32>\n",
            "  <tf.Variable 'transformer/layer_1/self_attention/attention_output/bias:0' shape=(512,) dtype=float32>\n",
            "  <tf.Variable 'transformer/layer_1/self_attention/attention_output/kernel:0' shape=(8, 64, 512) dtype=float32>\n",
            "  <tf.Variable 'transformer/layer_1/self_attention/value/bias:0' shape=(8, 64) dtype=float32>\n",
            "  <tf.Variable 'transformer/layer_1/self_attention/value/kernel:0' shape=(512, 8, 64) dtype=float32>\n",
            "  <tf.Variable 'transformer/layer_1/self_attention/key/bias:0' shape=(8, 64) dtype=float32>\n",
            "  <tf.Variable 'transformer/layer_1/self_attention/key/kernel:0' shape=(512, 8, 64) dtype=float32>\n",
            "  <tf.Variable 'transformer/layer_1/self_attention/query/bias:0' shape=(8, 64) dtype=float32>\n",
            "  <tf.Variable 'transformer/layer_1/self_attention/query/kernel:0' shape=(512, 8, 64) dtype=float32>\n",
            "  <tf.Variable 'transformer/layer_0/output_layer_norm/beta:0' shape=(512,) dtype=float32>\n",
            "  <tf.Variable 'transformer/layer_0/output_layer_norm/gamma:0' shape=(512,) dtype=float32>\n",
            "  <tf.Variable 'transformer/layer_0/output/bias:0' shape=(512,) dtype=float32>\n",
            "  <tf.Variable 'transformer/layer_0/output/kernel:0' shape=(2048, 512) dtype=float32>\n",
            "  <tf.Variable 'transformer/layer_0/intermediate/bias:0' shape=(2048,) dtype=float32>\n",
            "  <tf.Variable 'transformer/layer_0/intermediate/kernel:0' shape=(512, 2048) dtype=float32>\n",
            "  <tf.Variable 'transformer/layer_0/self_attention_layer_norm/beta:0' shape=(512,) dtype=float32>\n",
            "  <tf.Variable 'transformer/layer_0/self_attention_layer_norm/gamma:0' shape=(512,) dtype=float32>\n",
            "  <tf.Variable 'transformer/layer_0/self_attention/attention_output/bias:0' shape=(512,) dtype=float32>\n",
            "  <tf.Variable 'transformer/layer_0/self_attention/attention_output/kernel:0' shape=(8, 64, 512) dtype=float32>\n",
            "  <tf.Variable 'transformer/layer_0/self_attention/value/bias:0' shape=(8, 64) dtype=float32>\n",
            "  <tf.Variable 'transformer/layer_0/self_attention/value/kernel:0' shape=(512, 8, 64) dtype=float32>\n",
            "  <tf.Variable 'transformer/layer_0/self_attention/key/bias:0' shape=(8, 64) dtype=float32>\n",
            "  <tf.Variable 'transformer/layer_0/self_attention/key/kernel:0' shape=(512, 8, 64) dtype=float32>\n",
            "  <tf.Variable 'transformer/layer_0/self_attention/query/bias:0' shape=(8, 64) dtype=float32>\n",
            "  <tf.Variable 'transformer/layer_0/self_attention/query/kernel:0' shape=(512, 8, 64) dtype=float32>\n",
            "  <tf.Variable 'embeddings/layer_norm/beta:0' shape=(512,) dtype=float32>\n",
            "  <tf.Variable 'embeddings/layer_norm/gamma:0' shape=(512,) dtype=float32>\n",
            "  <tf.Variable 'type_embeddings/embeddings:0' shape=(2, 512) dtype=float32>\n",
            "  <tf.Variable 'position_embedding/embeddings:0' shape=(512, 512) dtype=float32>\n",
            "  <tf.Variable 'word_embeddings/embeddings:0' shape=(30522, 512) dtype=float32>\n",
            "It is possible that this is intended behavior, but it is more likely\n",
            "an omission. This is a strong indication that this layer should be\n",
            "formulated as a subclassed Layer rather than a Lambda layer.\n"
          ]
        },
        {
          "output_type": "stream",
          "name": "stderr",
          "text": [
            "WARNING:tensorflow:\n",
            "The following Variables were used a Lambda layer's call (lambda), but\n",
            "are not present in its tracked objects:\n",
            "  <tf.Variable 'pooler_transform/bias:0' shape=(512,) dtype=float32>\n",
            "  <tf.Variable 'pooler_transform/kernel:0' shape=(512, 512) dtype=float32>\n",
            "  <tf.Variable 'transformer/layer_3/output_layer_norm/beta:0' shape=(512,) dtype=float32>\n",
            "  <tf.Variable 'transformer/layer_3/output_layer_norm/gamma:0' shape=(512,) dtype=float32>\n",
            "  <tf.Variable 'transformer/layer_3/output/bias:0' shape=(512,) dtype=float32>\n",
            "  <tf.Variable 'transformer/layer_3/output/kernel:0' shape=(2048, 512) dtype=float32>\n",
            "  <tf.Variable 'transformer/layer_3/intermediate/bias:0' shape=(2048,) dtype=float32>\n",
            "  <tf.Variable 'transformer/layer_3/intermediate/kernel:0' shape=(512, 2048) dtype=float32>\n",
            "  <tf.Variable 'transformer/layer_3/self_attention_layer_norm/beta:0' shape=(512,) dtype=float32>\n",
            "  <tf.Variable 'transformer/layer_3/self_attention_layer_norm/gamma:0' shape=(512,) dtype=float32>\n",
            "  <tf.Variable 'transformer/layer_3/self_attention/attention_output/bias:0' shape=(512,) dtype=float32>\n",
            "  <tf.Variable 'transformer/layer_3/self_attention/attention_output/kernel:0' shape=(8, 64, 512) dtype=float32>\n",
            "  <tf.Variable 'transformer/layer_3/self_attention/value/bias:0' shape=(8, 64) dtype=float32>\n",
            "  <tf.Variable 'transformer/layer_3/self_attention/value/kernel:0' shape=(512, 8, 64) dtype=float32>\n",
            "  <tf.Variable 'transformer/layer_3/self_attention/key/bias:0' shape=(8, 64) dtype=float32>\n",
            "  <tf.Variable 'transformer/layer_3/self_attention/key/kernel:0' shape=(512, 8, 64) dtype=float32>\n",
            "  <tf.Variable 'transformer/layer_3/self_attention/query/bias:0' shape=(8, 64) dtype=float32>\n",
            "  <tf.Variable 'transformer/layer_3/self_attention/query/kernel:0' shape=(512, 8, 64) dtype=float32>\n",
            "  <tf.Variable 'transformer/layer_2/output_layer_norm/beta:0' shape=(512,) dtype=float32>\n",
            "  <tf.Variable 'transformer/layer_2/output_layer_norm/gamma:0' shape=(512,) dtype=float32>\n",
            "  <tf.Variable 'transformer/layer_2/output/bias:0' shape=(512,) dtype=float32>\n",
            "  <tf.Variable 'transformer/layer_2/output/kernel:0' shape=(2048, 512) dtype=float32>\n",
            "  <tf.Variable 'transformer/layer_2/intermediate/bias:0' shape=(2048,) dtype=float32>\n",
            "  <tf.Variable 'transformer/layer_2/intermediate/kernel:0' shape=(512, 2048) dtype=float32>\n",
            "  <tf.Variable 'transformer/layer_2/self_attention_layer_norm/beta:0' shape=(512,) dtype=float32>\n",
            "  <tf.Variable 'transformer/layer_2/self_attention_layer_norm/gamma:0' shape=(512,) dtype=float32>\n",
            "  <tf.Variable 'transformer/layer_2/self_attention/attention_output/bias:0' shape=(512,) dtype=float32>\n",
            "  <tf.Variable 'transformer/layer_2/self_attention/attention_output/kernel:0' shape=(8, 64, 512) dtype=float32>\n",
            "  <tf.Variable 'transformer/layer_2/self_attention/value/bias:0' shape=(8, 64) dtype=float32>\n",
            "  <tf.Variable 'transformer/layer_2/self_attention/value/kernel:0' shape=(512, 8, 64) dtype=float32>\n",
            "  <tf.Variable 'transformer/layer_2/self_attention/key/bias:0' shape=(8, 64) dtype=float32>\n",
            "  <tf.Variable 'transformer/layer_2/self_attention/key/kernel:0' shape=(512, 8, 64) dtype=float32>\n",
            "  <tf.Variable 'transformer/layer_2/self_attention/query/bias:0' shape=(8, 64) dtype=float32>\n",
            "  <tf.Variable 'transformer/layer_2/self_attention/query/kernel:0' shape=(512, 8, 64) dtype=float32>\n",
            "  <tf.Variable 'transformer/layer_1/output_layer_norm/beta:0' shape=(512,) dtype=float32>\n",
            "  <tf.Variable 'transformer/layer_1/output_layer_norm/gamma:0' shape=(512,) dtype=float32>\n",
            "  <tf.Variable 'transformer/layer_1/output/bias:0' shape=(512,) dtype=float32>\n",
            "  <tf.Variable 'transformer/layer_1/output/kernel:0' shape=(2048, 512) dtype=float32>\n",
            "  <tf.Variable 'transformer/layer_1/intermediate/bias:0' shape=(2048,) dtype=float32>\n",
            "  <tf.Variable 'transformer/layer_1/intermediate/kernel:0' shape=(512, 2048) dtype=float32>\n",
            "  <tf.Variable 'transformer/layer_1/self_attention_layer_norm/beta:0' shape=(512,) dtype=float32>\n",
            "  <tf.Variable 'transformer/layer_1/self_attention_layer_norm/gamma:0' shape=(512,) dtype=float32>\n",
            "  <tf.Variable 'transformer/layer_1/self_attention/attention_output/bias:0' shape=(512,) dtype=float32>\n",
            "  <tf.Variable 'transformer/layer_1/self_attention/attention_output/kernel:0' shape=(8, 64, 512) dtype=float32>\n",
            "  <tf.Variable 'transformer/layer_1/self_attention/value/bias:0' shape=(8, 64) dtype=float32>\n",
            "  <tf.Variable 'transformer/layer_1/self_attention/value/kernel:0' shape=(512, 8, 64) dtype=float32>\n",
            "  <tf.Variable 'transformer/layer_1/self_attention/key/bias:0' shape=(8, 64) dtype=float32>\n",
            "  <tf.Variable 'transformer/layer_1/self_attention/key/kernel:0' shape=(512, 8, 64) dtype=float32>\n",
            "  <tf.Variable 'transformer/layer_1/self_attention/query/bias:0' shape=(8, 64) dtype=float32>\n",
            "  <tf.Variable 'transformer/layer_1/self_attention/query/kernel:0' shape=(512, 8, 64) dtype=float32>\n",
            "  <tf.Variable 'transformer/layer_0/output_layer_norm/beta:0' shape=(512,) dtype=float32>\n",
            "  <tf.Variable 'transformer/layer_0/output_layer_norm/gamma:0' shape=(512,) dtype=float32>\n",
            "  <tf.Variable 'transformer/layer_0/output/bias:0' shape=(512,) dtype=float32>\n",
            "  <tf.Variable 'transformer/layer_0/output/kernel:0' shape=(2048, 512) dtype=float32>\n",
            "  <tf.Variable 'transformer/layer_0/intermediate/bias:0' shape=(2048,) dtype=float32>\n",
            "  <tf.Variable 'transformer/layer_0/intermediate/kernel:0' shape=(512, 2048) dtype=float32>\n",
            "  <tf.Variable 'transformer/layer_0/self_attention_layer_norm/beta:0' shape=(512,) dtype=float32>\n",
            "  <tf.Variable 'transformer/layer_0/self_attention_layer_norm/gamma:0' shape=(512,) dtype=float32>\n",
            "  <tf.Variable 'transformer/layer_0/self_attention/attention_output/bias:0' shape=(512,) dtype=float32>\n",
            "  <tf.Variable 'transformer/layer_0/self_attention/attention_output/kernel:0' shape=(8, 64, 512) dtype=float32>\n",
            "  <tf.Variable 'transformer/layer_0/self_attention/value/bias:0' shape=(8, 64) dtype=float32>\n",
            "  <tf.Variable 'transformer/layer_0/self_attention/value/kernel:0' shape=(512, 8, 64) dtype=float32>\n",
            "  <tf.Variable 'transformer/layer_0/self_attention/key/bias:0' shape=(8, 64) dtype=float32>\n",
            "  <tf.Variable 'transformer/layer_0/self_attention/key/kernel:0' shape=(512, 8, 64) dtype=float32>\n",
            "  <tf.Variable 'transformer/layer_0/self_attention/query/bias:0' shape=(8, 64) dtype=float32>\n",
            "  <tf.Variable 'transformer/layer_0/self_attention/query/kernel:0' shape=(512, 8, 64) dtype=float32>\n",
            "  <tf.Variable 'embeddings/layer_norm/beta:0' shape=(512,) dtype=float32>\n",
            "  <tf.Variable 'embeddings/layer_norm/gamma:0' shape=(512,) dtype=float32>\n",
            "  <tf.Variable 'type_embeddings/embeddings:0' shape=(2, 512) dtype=float32>\n",
            "  <tf.Variable 'position_embedding/embeddings:0' shape=(512, 512) dtype=float32>\n",
            "  <tf.Variable 'word_embeddings/embeddings:0' shape=(30522, 512) dtype=float32>\n",
            "It is possible that this is intended behavior, but it is more likely\n",
            "an omission. This is a strong indication that this layer should be\n",
            "formulated as a subclassed Layer rather than a Lambda layer.\n"
          ]
        }
      ]
    },
    {
      "cell_type": "code",
      "metadata": {
        "id": "doFLeyrEujrJ",
        "colab": {
          "base_uri": "https://localhost:8080/"
        },
        "outputId": "186d530c-0465-4b70-c1a3-3e60c9491b0a"
      },
      "source": [
        "import numpy as np\n",
        "xtrain = np.array(xtrain).reshape(-1,1)\n",
        "xtest = np.array(xtest).reshape(-1,1)\n",
        "print(xtrain.shape)\n",
        "print(xtest.shape)"
      ],
      "execution_count": 23,
      "outputs": [
        {
          "output_type": "stream",
          "name": "stdout",
          "text": [
            "(5452, 1)\n",
            "(500, 1)\n"
          ]
        }
      ]
    },
    {
      "cell_type": "code",
      "metadata": {
        "id": "be_JzeQtsMRl",
        "colab": {
          "base_uri": "https://localhost:8080/"
        },
        "outputId": "0969a262-e34f-4fc5-a52a-cb8ad606145d"
      },
      "source": [
        "model.fit(xtrain,ytrain,epochs=4,batch_size=64,validation_data=(xtest,ytest))"
      ],
      "execution_count": 24,
      "outputs": [
        {
          "metadata": {
            "tags": null
          },
          "name": "stdout",
          "output_type": "stream",
          "text": [
            "Epoch 1/4\n",
            "86/86 [==============================] - 71s 325ms/step - loss: 1.2564 - accuracy: 0.5004 - val_loss: 0.8088 - val_accuracy: 0.6880\n",
            "Epoch 2/4\n",
            "86/86 [==============================] - 27s 316ms/step - loss: 1.0016 - accuracy: 0.6141 - val_loss: 0.8074 - val_accuracy: 0.6420\n",
            "Epoch 3/4\n",
            "86/86 [==============================] - 27s 315ms/step - loss: 0.9577 - accuracy: 0.6350 - val_loss: 0.6204 - val_accuracy: 0.7920\n",
            "Epoch 4/4\n",
            "86/86 [==============================] - 27s 318ms/step - loss: 0.9141 - accuracy: 0.6513 - val_loss: 0.5772 - val_accuracy: 0.7940\n"
          ]
        },
        {
          "data": {
            "text/plain": [
              "<keras.callbacks.History at 0x7fc09c15a750>"
            ]
          },
          "execution_count": null,
          "metadata": {},
          "output_type": "execute_result"
        }
      ]
    },
    {
      "cell_type": "code",
      "metadata": {
        "id": "QNu0tJaCuNsm"
      },
      "source": [
        "new_doc = [\"Who is president of United States of America?\",\"What is price for Harley Davidson?\"]\n",
        "new_doc = np.array(new_doc).reshape(-1,1)\n",
        "output = model.predict(new_doc)"
      ],
      "execution_count": 25,
      "outputs": []
    },
    {
      "cell_type": "code",
      "metadata": {
        "id": "06KNi_1CxoGn",
        "colab": {
          "base_uri": "https://localhost:8080/"
        },
        "outputId": "6bf8b9ee-2d6f-4957-eb63-7e850c797d78"
      },
      "source": [
        "output2 = [np.argmax(i) for i in output]\n",
        "output2 = [categories[i] for i in output2]\n",
        "output2"
      ],
      "execution_count": 26,
      "outputs": [
        {
          "output_type": "execute_result",
          "data": {
            "text/plain": [
              "['HUM', 'HUM']"
            ]
          },
          "metadata": {},
          "execution_count": 26
        }
      ]
    },
    {
      "cell_type": "code",
      "metadata": {
        "id": "bfdGBvuXx3A_"
      },
      "source": [
        "e"
      ],
      "execution_count": null,
      "outputs": []
    }
  ]
}