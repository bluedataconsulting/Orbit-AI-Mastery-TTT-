{
 "cells": [
  {
   "cell_type": "markdown",
   "id": "3486c174",
   "metadata": {},
   "source": [
    "## Working with textblob"
   ]
  },
  {
   "cell_type": "code",
   "execution_count": 1,
   "id": "03b1d616",
   "metadata": {},
   "outputs": [],
   "source": [
    "from textblob import TextBlob"
   ]
  },
  {
   "cell_type": "markdown",
   "id": "1335bd53",
   "metadata": {},
   "source": [
    "### language translation"
   ]
  },
  {
   "cell_type": "code",
   "execution_count": 2,
   "id": "578a9d35",
   "metadata": {},
   "outputs": [],
   "source": [
    "data = TextBlob(\"Hello Everyone, I hope you are enjoying learning NLP. Thanks!\")"
   ]
  },
  {
   "cell_type": "code",
   "execution_count": 3,
   "id": "26e25e16",
   "metadata": {},
   "outputs": [
    {
     "data": {
      "text/plain": [
       "TextBlob(\"Halo semuanya, saya harap Anda menikmati pembelajaran NLP. Terima kasih!\")"
      ]
     },
     "execution_count": 3,
     "metadata": {},
     "output_type": "execute_result"
    }
   ],
   "source": [
    "data.translate(to='id')"
   ]
  },
  {
   "cell_type": "code",
   "execution_count": 4,
   "id": "52c53008",
   "metadata": {},
   "outputs": [
    {
     "data": {
      "text/plain": [
       "TextBlob(\"مرحبا بالجميع، أتمنى أن تستمتع بتعلم NLP. شكرا!\")"
      ]
     },
     "execution_count": 4,
     "metadata": {},
     "output_type": "execute_result"
    }
   ],
   "source": [
    "data.translate(to='ar')"
   ]
  },
  {
   "cell_type": "code",
   "execution_count": 5,
   "id": "75193d1a",
   "metadata": {},
   "outputs": [
    {
     "data": {
      "text/plain": [
       "TextBlob(\"大家好，我希望你在享受学习NLP。谢谢！\")"
      ]
     },
     "execution_count": 5,
     "metadata": {},
     "output_type": "execute_result"
    }
   ],
   "source": [
    "data.translate(to='Zh-Cn')"
   ]
  },
  {
   "cell_type": "code",
   "execution_count": 6,
   "id": "b9e74a59",
   "metadata": {},
   "outputs": [
    {
     "data": {
      "text/plain": [
       "TextBlob(\"सभी को नमस्कार, मुझे आशा है कि आप एनएलपी सीखने का आनंद ले रहे हैं। धन्यवाद!\")"
      ]
     },
     "execution_count": 6,
     "metadata": {},
     "output_type": "execute_result"
    }
   ],
   "source": [
    "data.translate(to='hi')"
   ]
  },
  {
   "cell_type": "markdown",
   "id": "5e703bbb",
   "metadata": {},
   "source": [
    "### Sentiment Analysis"
   ]
  },
  {
   "cell_type": "code",
   "execution_count": 7,
   "id": "09b43e1e",
   "metadata": {},
   "outputs": [
    {
     "data": {
      "text/plain": [
       "0.38"
      ]
     },
     "execution_count": 7,
     "metadata": {},
     "output_type": "execute_result"
    }
   ],
   "source": [
    "data = TextBlob(\"The movie was amazing, I love such movies, the acting was great\")\n",
    "data.sentiment.polarity"
   ]
  },
  {
   "cell_type": "code",
   "execution_count": 8,
   "id": "e3f2c5e7",
   "metadata": {},
   "outputs": [
    {
     "data": {
      "text/plain": [
       "-0.38"
      ]
     },
     "execution_count": 8,
     "metadata": {},
     "output_type": "execute_result"
    }
   ],
   "source": [
    "data = TextBlob(\"The movie was bad, I hate such movies, the acting was poor\")\n",
    "data.sentiment.polarity"
   ]
  },
  {
   "cell_type": "code",
   "execution_count": 9,
   "id": "3271f643",
   "metadata": {},
   "outputs": [
    {
     "data": {
      "text/plain": [
       "0.7"
      ]
     },
     "execution_count": 9,
     "metadata": {},
     "output_type": "execute_result"
    }
   ],
   "source": [
    "data = TextBlob(\"The movie was good\")\n",
    "data.sentiment.polarity"
   ]
  },
  {
   "cell_type": "code",
   "execution_count": 10,
   "id": "82646190",
   "metadata": {},
   "outputs": [
    {
     "data": {
      "text/plain": [
       "-1.0"
      ]
     },
     "execution_count": 10,
     "metadata": {},
     "output_type": "execute_result"
    }
   ],
   "source": [
    "data = TextBlob(\"The movie was worst\")\n",
    "data.sentiment.polarity"
   ]
  },
  {
   "cell_type": "markdown",
   "id": "7d12cbfa",
   "metadata": {},
   "source": [
    "## Correction"
   ]
  },
  {
   "cell_type": "code",
   "execution_count": 11,
   "id": "75271ccf",
   "metadata": {},
   "outputs": [
    {
     "data": {
      "text/plain": [
       "TextBlob(\"I have an amazing watch\")"
      ]
     },
     "execution_count": 11,
     "metadata": {},
     "output_type": "execute_result"
    }
   ],
   "source": [
    "data = TextBlob(\"I havv an amazing watch\")\n",
    "data.correct()"
   ]
  },
  {
   "cell_type": "markdown",
   "id": "5f4ee2f5",
   "metadata": {},
   "source": [
    "## Built-in dictionary"
   ]
  },
  {
   "cell_type": "code",
   "execution_count": 13,
   "id": "561125f5",
   "metadata": {},
   "outputs": [],
   "source": [
    "from textblob import Word\n",
    "w = Word('car')"
   ]
  },
  {
   "cell_type": "code",
   "execution_count": 14,
   "id": "0579b828",
   "metadata": {},
   "outputs": [
    {
     "data": {
      "text/plain": [
       "['a motor vehicle with four wheels; usually propelled by an internal combustion engine',\n",
       " 'a wheeled vehicle adapted to the rails of railroad',\n",
       " 'the compartment that is suspended from an airship and that carries personnel and the cargo and the power plant',\n",
       " 'where passengers ride up and down',\n",
       " 'a conveyance for passengers or freight on a cable railway']"
      ]
     },
     "execution_count": 14,
     "metadata": {},
     "output_type": "execute_result"
    }
   ],
   "source": [
    "w.definitions"
   ]
  },
  {
   "cell_type": "code",
   "execution_count": null,
   "id": "70f605bc",
   "metadata": {},
   "outputs": [],
   "source": []
  }
 ],
 "metadata": {
  "kernelspec": {
   "display_name": "Python 3",
   "language": "python",
   "name": "python3"
  },
  "language_info": {
   "codemirror_mode": {
    "name": "ipython",
    "version": 3
   },
   "file_extension": ".py",
   "mimetype": "text/x-python",
   "name": "python",
   "nbconvert_exporter": "python",
   "pygments_lexer": "ipython3",
   "version": "3.8.8"
  }
 },
 "nbformat": 4,
 "nbformat_minor": 5
}
