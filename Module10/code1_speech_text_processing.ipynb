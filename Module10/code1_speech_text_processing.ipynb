{
 "cells": [
  {
   "cell_type": "markdown",
   "id": "ffbf41f5",
   "metadata": {},
   "source": [
    "# Speech to text conversion"
   ]
  },
  {
   "cell_type": "markdown",
   "id": "fac1fe90",
   "metadata": {},
   "source": [
    "    conda install pyaudio\n",
    "    pip install speechrecognition"
   ]
  },
  {
   "cell_type": "code",
   "execution_count": 1,
   "id": "33996ead",
   "metadata": {},
   "outputs": [],
   "source": [
    "import speech_recognition as sr"
   ]
  },
  {
   "cell_type": "code",
   "execution_count": 2,
   "id": "2bdec12c",
   "metadata": {},
   "outputs": [],
   "source": [
    "r = sr.Recognizer()"
   ]
  },
  {
   "cell_type": "code",
   "execution_count": 6,
   "id": "3aa466c2",
   "metadata": {},
   "outputs": [
    {
     "name": "stdout",
     "output_type": "stream",
     "text": [
      "start speaking\n",
      "Done recording\n"
     ]
    }
   ],
   "source": [
    "# record some audio\n",
    "with sr.Microphone(1) as source:\n",
    "    print(\"start speaking\")\n",
    "    audio = r.listen(source,phrase_time_limit=10) # listen to audio for 10 seconds\n",
    "    print(\"Done recording\")"
   ]
  },
  {
   "cell_type": "code",
   "execution_count": 7,
   "id": "c4a91a09",
   "metadata": {},
   "outputs": [
    {
     "name": "stdout",
     "output_type": "stream",
     "text": [
      "hello everyone Teri makasi I hope this should work they make RC so I am checking out if it is identifying the\n"
     ]
    }
   ],
   "source": [
    "text = r.recognize_google(audio)\n",
    "print(text)"
   ]
  },
  {
   "cell_type": "markdown",
   "id": "72777abe",
   "metadata": {},
   "source": [
    "# Text to speech conversion"
   ]
  },
  {
   "cell_type": "markdown",
   "id": "4a5f5b27",
   "metadata": {},
   "source": [
    "    pip install pyttsx3"
   ]
  },
  {
   "cell_type": "code",
   "execution_count": 8,
   "id": "d82410b1",
   "metadata": {},
   "outputs": [],
   "source": [
    "import pyttsx3"
   ]
  },
  {
   "cell_type": "code",
   "execution_count": 9,
   "id": "f63546eb",
   "metadata": {},
   "outputs": [],
   "source": [
    "engine = pyttsx3.init()\n",
    "engine.say(\"Hey Hello, hope you are doing good today!\")\n",
    "engine.runAndWait()"
   ]
  },
  {
   "cell_type": "code",
   "execution_count": 10,
   "id": "5ce25fd1",
   "metadata": {},
   "outputs": [],
   "source": [
    "# set the speed\n",
    "engine.setProperty('rate',100)\n",
    "engine.say(\"Hey Hello, hope you are doing good today!\")\n",
    "engine.runAndWait()"
   ]
  },
  {
   "cell_type": "code",
   "execution_count": 11,
   "id": "c789b81d",
   "metadata": {},
   "outputs": [
    {
     "data": {
      "text/plain": [
       "[<pyttsx3.voice.Voice at 0x1b2fa5c0ac0>,\n",
       " <pyttsx3.voice.Voice at 0x1b2fa744400>]"
      ]
     },
     "execution_count": 11,
     "metadata": {},
     "output_type": "execute_result"
    }
   ],
   "source": [
    "# check the available voices\n",
    "voices = engine.getProperty('voices')\n",
    "voices"
   ]
  },
  {
   "cell_type": "code",
   "execution_count": 12,
   "id": "780c7034",
   "metadata": {},
   "outputs": [],
   "source": [
    "engine.setProperty('voice',voices[1].id)\n",
    "engine.say(\"Hey Hello, hope you are doing good today!\")\n",
    "engine.runAndWait()"
   ]
  },
  {
   "cell_type": "code",
   "execution_count": null,
   "id": "4fd845b8",
   "metadata": {},
   "outputs": [],
   "source": []
  }
 ],
 "metadata": {
  "kernelspec": {
   "display_name": "Python 3",
   "language": "python",
   "name": "python3"
  },
  "language_info": {
   "codemirror_mode": {
    "name": "ipython",
    "version": 3
   },
   "file_extension": ".py",
   "mimetype": "text/x-python",
   "name": "python",
   "nbconvert_exporter": "python",
   "pygments_lexer": "ipython3",
   "version": "3.8.8"
  }
 },
 "nbformat": 4,
 "nbformat_minor": 5
}
